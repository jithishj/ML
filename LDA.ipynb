{
 "cells": [
  {
   "cell_type": "code",
   "execution_count": 31,
   "metadata": {},
   "outputs": [],
   "source": [
    "from sklearn.datasets import load_iris\n",
    "from sklearn.discriminant_analysis import LinearDiscriminantAnalysis"
   ]
  },
  {
   "cell_type": "code",
   "execution_count": 32,
   "metadata": {},
   "outputs": [],
   "source": [
    "iris=load_iris()\n",
    "X, y=iris.data, iris.target"
   ]
  },
  {
   "cell_type": "code",
   "execution_count": 33,
   "metadata": {},
   "outputs": [],
   "source": [
    "lda=LinearDiscriminantAnalysis(n_components=1)"
   ]
  },
  {
   "cell_type": "code",
   "execution_count": 34,
   "metadata": {},
   "outputs": [],
   "source": [
    "X_lda=lda.fit_transform(X,y)"
   ]
  },
  {
   "cell_type": "code",
   "execution_count": 35,
   "metadata": {},
   "outputs": [
    {
     "data": {
      "text/plain": [
       "(150, 1)"
      ]
     },
     "execution_count": 35,
     "metadata": {},
     "output_type": "execute_result"
    }
   ],
   "source": [
    "X_lda.shape"
   ]
  },
  {
   "cell_type": "code",
   "execution_count": 36,
   "metadata": {},
   "outputs": [
    {
     "data": {
      "text/plain": [
       "(150, 4)"
      ]
     },
     "execution_count": 36,
     "metadata": {},
     "output_type": "execute_result"
    }
   ],
   "source": [
    "X.shape"
   ]
  },
  {
   "cell_type": "code",
   "execution_count": 37,
   "metadata": {},
   "outputs": [
    {
     "data": {
      "text/plain": [
       "array([[5.1, 3.5, 1.4, 0.2],\n",
       "       [4.9, 3. , 1.4, 0.2],\n",
       "       [4.7, 3.2, 1.3, 0.2],\n",
       "       [4.6, 3.1, 1.5, 0.2],\n",
       "       [5. , 3.6, 1.4, 0.2],\n",
       "       [5.4, 3.9, 1.7, 0.4],\n",
       "       [4.6, 3.4, 1.4, 0.3],\n",
       "       [5. , 3.4, 1.5, 0.2],\n",
       "       [4.4, 2.9, 1.4, 0.2],\n",
       "       [4.9, 3.1, 1.5, 0.1],\n",
       "       [5.4, 3.7, 1.5, 0.2],\n",
       "       [4.8, 3.4, 1.6, 0.2],\n",
       "       [4.8, 3. , 1.4, 0.1],\n",
       "       [4.3, 3. , 1.1, 0.1],\n",
       "       [5.8, 4. , 1.2, 0.2],\n",
       "       [5.7, 4.4, 1.5, 0.4],\n",
       "       [5.4, 3.9, 1.3, 0.4],\n",
       "       [5.1, 3.5, 1.4, 0.3],\n",
       "       [5.7, 3.8, 1.7, 0.3],\n",
       "       [5.1, 3.8, 1.5, 0.3],\n",
       "       [5.4, 3.4, 1.7, 0.2],\n",
       "       [5.1, 3.7, 1.5, 0.4],\n",
       "       [4.6, 3.6, 1. , 0.2],\n",
       "       [5.1, 3.3, 1.7, 0.5],\n",
       "       [4.8, 3.4, 1.9, 0.2],\n",
       "       [5. , 3. , 1.6, 0.2],\n",
       "       [5. , 3.4, 1.6, 0.4],\n",
       "       [5.2, 3.5, 1.5, 0.2],\n",
       "       [5.2, 3.4, 1.4, 0.2],\n",
       "       [4.7, 3.2, 1.6, 0.2],\n",
       "       [4.8, 3.1, 1.6, 0.2],\n",
       "       [5.4, 3.4, 1.5, 0.4],\n",
       "       [5.2, 4.1, 1.5, 0.1],\n",
       "       [5.5, 4.2, 1.4, 0.2],\n",
       "       [4.9, 3.1, 1.5, 0.2],\n",
       "       [5. , 3.2, 1.2, 0.2],\n",
       "       [5.5, 3.5, 1.3, 0.2],\n",
       "       [4.9, 3.6, 1.4, 0.1],\n",
       "       [4.4, 3. , 1.3, 0.2],\n",
       "       [5.1, 3.4, 1.5, 0.2],\n",
       "       [5. , 3.5, 1.3, 0.3],\n",
       "       [4.5, 2.3, 1.3, 0.3],\n",
       "       [4.4, 3.2, 1.3, 0.2],\n",
       "       [5. , 3.5, 1.6, 0.6],\n",
       "       [5.1, 3.8, 1.9, 0.4],\n",
       "       [4.8, 3. , 1.4, 0.3],\n",
       "       [5.1, 3.8, 1.6, 0.2],\n",
       "       [4.6, 3.2, 1.4, 0.2],\n",
       "       [5.3, 3.7, 1.5, 0.2],\n",
       "       [5. , 3.3, 1.4, 0.2],\n",
       "       [7. , 3.2, 4.7, 1.4],\n",
       "       [6.4, 3.2, 4.5, 1.5],\n",
       "       [6.9, 3.1, 4.9, 1.5],\n",
       "       [5.5, 2.3, 4. , 1.3],\n",
       "       [6.5, 2.8, 4.6, 1.5],\n",
       "       [5.7, 2.8, 4.5, 1.3],\n",
       "       [6.3, 3.3, 4.7, 1.6],\n",
       "       [4.9, 2.4, 3.3, 1. ],\n",
       "       [6.6, 2.9, 4.6, 1.3],\n",
       "       [5.2, 2.7, 3.9, 1.4],\n",
       "       [5. , 2. , 3.5, 1. ],\n",
       "       [5.9, 3. , 4.2, 1.5],\n",
       "       [6. , 2.2, 4. , 1. ],\n",
       "       [6.1, 2.9, 4.7, 1.4],\n",
       "       [5.6, 2.9, 3.6, 1.3],\n",
       "       [6.7, 3.1, 4.4, 1.4],\n",
       "       [5.6, 3. , 4.5, 1.5],\n",
       "       [5.8, 2.7, 4.1, 1. ],\n",
       "       [6.2, 2.2, 4.5, 1.5],\n",
       "       [5.6, 2.5, 3.9, 1.1],\n",
       "       [5.9, 3.2, 4.8, 1.8],\n",
       "       [6.1, 2.8, 4. , 1.3],\n",
       "       [6.3, 2.5, 4.9, 1.5],\n",
       "       [6.1, 2.8, 4.7, 1.2],\n",
       "       [6.4, 2.9, 4.3, 1.3],\n",
       "       [6.6, 3. , 4.4, 1.4],\n",
       "       [6.8, 2.8, 4.8, 1.4],\n",
       "       [6.7, 3. , 5. , 1.7],\n",
       "       [6. , 2.9, 4.5, 1.5],\n",
       "       [5.7, 2.6, 3.5, 1. ],\n",
       "       [5.5, 2.4, 3.8, 1.1],\n",
       "       [5.5, 2.4, 3.7, 1. ],\n",
       "       [5.8, 2.7, 3.9, 1.2],\n",
       "       [6. , 2.7, 5.1, 1.6],\n",
       "       [5.4, 3. , 4.5, 1.5],\n",
       "       [6. , 3.4, 4.5, 1.6],\n",
       "       [6.7, 3.1, 4.7, 1.5],\n",
       "       [6.3, 2.3, 4.4, 1.3],\n",
       "       [5.6, 3. , 4.1, 1.3],\n",
       "       [5.5, 2.5, 4. , 1.3],\n",
       "       [5.5, 2.6, 4.4, 1.2],\n",
       "       [6.1, 3. , 4.6, 1.4],\n",
       "       [5.8, 2.6, 4. , 1.2],\n",
       "       [5. , 2.3, 3.3, 1. ],\n",
       "       [5.6, 2.7, 4.2, 1.3],\n",
       "       [5.7, 3. , 4.2, 1.2],\n",
       "       [5.7, 2.9, 4.2, 1.3],\n",
       "       [6.2, 2.9, 4.3, 1.3],\n",
       "       [5.1, 2.5, 3. , 1.1],\n",
       "       [5.7, 2.8, 4.1, 1.3],\n",
       "       [6.3, 3.3, 6. , 2.5],\n",
       "       [5.8, 2.7, 5.1, 1.9],\n",
       "       [7.1, 3. , 5.9, 2.1],\n",
       "       [6.3, 2.9, 5.6, 1.8],\n",
       "       [6.5, 3. , 5.8, 2.2],\n",
       "       [7.6, 3. , 6.6, 2.1],\n",
       "       [4.9, 2.5, 4.5, 1.7],\n",
       "       [7.3, 2.9, 6.3, 1.8],\n",
       "       [6.7, 2.5, 5.8, 1.8],\n",
       "       [7.2, 3.6, 6.1, 2.5],\n",
       "       [6.5, 3.2, 5.1, 2. ],\n",
       "       [6.4, 2.7, 5.3, 1.9],\n",
       "       [6.8, 3. , 5.5, 2.1],\n",
       "       [5.7, 2.5, 5. , 2. ],\n",
       "       [5.8, 2.8, 5.1, 2.4],\n",
       "       [6.4, 3.2, 5.3, 2.3],\n",
       "       [6.5, 3. , 5.5, 1.8],\n",
       "       [7.7, 3.8, 6.7, 2.2],\n",
       "       [7.7, 2.6, 6.9, 2.3],\n",
       "       [6. , 2.2, 5. , 1.5],\n",
       "       [6.9, 3.2, 5.7, 2.3],\n",
       "       [5.6, 2.8, 4.9, 2. ],\n",
       "       [7.7, 2.8, 6.7, 2. ],\n",
       "       [6.3, 2.7, 4.9, 1.8],\n",
       "       [6.7, 3.3, 5.7, 2.1],\n",
       "       [7.2, 3.2, 6. , 1.8],\n",
       "       [6.2, 2.8, 4.8, 1.8],\n",
       "       [6.1, 3. , 4.9, 1.8],\n",
       "       [6.4, 2.8, 5.6, 2.1],\n",
       "       [7.2, 3. , 5.8, 1.6],\n",
       "       [7.4, 2.8, 6.1, 1.9],\n",
       "       [7.9, 3.8, 6.4, 2. ],\n",
       "       [6.4, 2.8, 5.6, 2.2],\n",
       "       [6.3, 2.8, 5.1, 1.5],\n",
       "       [6.1, 2.6, 5.6, 1.4],\n",
       "       [7.7, 3. , 6.1, 2.3],\n",
       "       [6.3, 3.4, 5.6, 2.4],\n",
       "       [6.4, 3.1, 5.5, 1.8],\n",
       "       [6. , 3. , 4.8, 1.8],\n",
       "       [6.9, 3.1, 5.4, 2.1],\n",
       "       [6.7, 3.1, 5.6, 2.4],\n",
       "       [6.9, 3.1, 5.1, 2.3],\n",
       "       [5.8, 2.7, 5.1, 1.9],\n",
       "       [6.8, 3.2, 5.9, 2.3],\n",
       "       [6.7, 3.3, 5.7, 2.5],\n",
       "       [6.7, 3. , 5.2, 2.3],\n",
       "       [6.3, 2.5, 5. , 1.9],\n",
       "       [6.5, 3. , 5.2, 2. ],\n",
       "       [6.2, 3.4, 5.4, 2.3],\n",
       "       [5.9, 3. , 5.1, 1.8]])"
      ]
     },
     "execution_count": 37,
     "metadata": {},
     "output_type": "execute_result"
    }
   ],
   "source": []
  },
  {
   "cell_type": "code",
   "execution_count": 43,
   "metadata": {},
   "outputs": [
    {
     "data": {
      "text/plain": [
       "<matplotlib.collections.PathCollection at 0xa1babf0>"
      ]
     },
     "execution_count": 43,
     "metadata": {},
     "output_type": "execute_result"
    },
    {
     "data": {
      "image/png": "[encoded data removed]",
      "text/plain": [
       "<Figure size 432x288 with 1 Axes>"
      ]
     },
     "metadata": {
      "needs_background": "light"
     },
     "output_type": "display_data"
    }
   ],
   "source": [
    "import matplotlib.pyplot as plt\n",
    "fig, ax=plt.subplots()\n",
    "ax.scatter(X_LDA[:,0], X[:,3])"
   ]
  },
  {
   "cell_type": "code",
   "execution_count": 45,
   "metadata": {},
   "outputs": [
    {
     "data": {
      "text/plain": [
       "array([[ 8.06179978],\n",
       "       [ 7.12868772],\n",
       "       [ 7.48982797],\n",
       "       [ 6.81320057],\n",
       "       [ 8.13230933],\n",
       "       [ 7.70194674],\n",
       "       [ 7.21261762],\n",
       "       [ 7.60529355],\n",
       "       [ 6.56055159],\n",
       "       [ 7.34305989],\n",
       "       [ 8.39738652],\n",
       "       [ 7.21929685],\n",
       "       [ 7.32679599],\n",
       "       [ 7.57247066],\n",
       "       [ 9.849843  ],\n",
       "       [ 9.1582389 ],\n",
       "       [ 8.58243141],\n",
       "       [ 7.78075375],\n",
       "       [ 8.07835876],\n",
       "       [ 8.02097451],\n",
       "       [ 7.49680227],\n",
       "       [ 7.58648117],\n",
       "       [ 8.68104293],\n",
       "       [ 6.25140358],\n",
       "       [ 6.55893336],\n",
       "       [ 6.77138315],\n",
       "       [ 6.82308032],\n",
       "       [ 7.92461638],\n",
       "       [ 7.99129024],\n",
       "       [ 6.82946447],\n",
       "       [ 6.75895493],\n",
       "       [ 7.37495254],\n",
       "       [ 9.12634625],\n",
       "       [ 9.46768199],\n",
       "       [ 7.06201386],\n",
       "       [ 7.95876243],\n",
       "       [ 8.61367201],\n",
       "       [ 8.33041759],\n",
       "       [ 6.93412007],\n",
       "       [ 7.68823131],\n",
       "       [ 7.91793715],\n",
       "       [ 5.66188065],\n",
       "       [ 7.24101468],\n",
       "       [ 6.41443556],\n",
       "       [ 6.85944381],\n",
       "       [ 6.76470393],\n",
       "       [ 8.08189937],\n",
       "       [ 7.18676904],\n",
       "       [ 8.31444876],\n",
       "       [ 7.67196741],\n",
       "       [-1.45927545],\n",
       "       [-1.79770574],\n",
       "       [-2.41694888],\n",
       "       [-2.26247349],\n",
       "       [-2.54867836],\n",
       "       [-2.42996725],\n",
       "       [-2.44848456],\n",
       "       [-0.22266651],\n",
       "       [-1.75020123],\n",
       "       [-1.95842242],\n",
       "       [-1.19376031],\n",
       "       [-1.85892567],\n",
       "       [-1.15809388],\n",
       "       [-2.66605725],\n",
       "       [-0.37836722],\n",
       "       [-1.20117255],\n",
       "       [-2.76810246],\n",
       "       [-0.77685404],\n",
       "       [-3.49805433],\n",
       "       [-1.09042788],\n",
       "       [-3.71589615],\n",
       "       [-0.99761037],\n",
       "       [-3.83525931],\n",
       "       [-2.25741249],\n",
       "       [-1.25571326],\n",
       "       [-1.43755762],\n",
       "       [-2.45906137],\n",
       "       [-3.51848495],\n",
       "       [-2.58979871],\n",
       "       [ 0.30748788],\n",
       "       [-1.10669179],\n",
       "       [-0.60552459],\n",
       "       [-0.89870377],\n",
       "       [-4.49846635],\n",
       "       [-2.93397799],\n",
       "       [-2.10360821],\n",
       "       [-2.14258208],\n",
       "       [-2.47945603],\n",
       "       [-1.32552574],\n",
       "       [-1.95557887],\n",
       "       [-2.4015702 ],\n",
       "       [-2.29248878],\n",
       "       [-1.27227224],\n",
       "       [-0.29317606],\n",
       "       [-2.00598883],\n",
       "       [-1.18166311],\n",
       "       [-1.61615645],\n",
       "       [-1.42158879],\n",
       "       [ 0.47597379],\n",
       "       [-1.54948259],\n",
       "       [-7.83947399],\n",
       "       [-5.50747997],\n",
       "       [-6.2920085 ],\n",
       "       [-5.60545633],\n",
       "       [-6.85055995],\n",
       "       [-7.41816784],\n",
       "       [-4.67799541],\n",
       "       [-6.31692685],\n",
       "       [-6.32773684],\n",
       "       [-6.85281335],\n",
       "       [-4.44072512],\n",
       "       [-5.45009572],\n",
       "       [-5.66033713],\n",
       "       [-5.95823722],\n",
       "       [-6.75926282],\n",
       "       [-5.80704331],\n",
       "       [-5.06601233],\n",
       "       [-6.60881882],\n",
       "       [-9.17147486],\n",
       "       [-4.76453569],\n",
       "       [-6.27283915],\n",
       "       [-5.36071189],\n",
       "       [-7.58119982],\n",
       "       [-4.37150279],\n",
       "       [-5.72317531],\n",
       "       [-5.2791592 ],\n",
       "       [-4.08087208],\n",
       "       [-4.0770364 ],\n",
       "       [-6.51910397],\n",
       "       [-4.58371942],\n",
       "       [-6.22824009],\n",
       "       [-5.22048773],\n",
       "       [-6.80015   ],\n",
       "       [-3.81515972],\n",
       "       [-5.10748966],\n",
       "       [-6.79671631],\n",
       "       [-6.52449599],\n",
       "       [-4.99550279],\n",
       "       [-3.939853  ],\n",
       "       [-5.2038309 ],\n",
       "       [-6.65308685],\n",
       "       [-5.10555946],\n",
       "       [-5.50747997],\n",
       "       [-6.79601924],\n",
       "       [-6.84735943],\n",
       "       [-5.64500346],\n",
       "       [-5.1795646 ],\n",
       "       [-4.9677409 ],\n",
       "       [-5.88614539],\n",
       "       [-4.68315426]])"
      ]
     },
     "execution_count": 45,
     "metadata": {},
     "output_type": "execute_result"
    }
   ],
   "source": [
    "X_lda"
   ]
  },
  {
   "cell_type": "code",
   "execution_count": null,
   "metadata": {},
   "outputs": [],
   "source": []
  }
 ],
 "metadata": {
  "kernelspec": {
   "display_name": "Python 3",
   "language": "python",
   "name": "python3"
  },
  "language_info": {
   "codemirror_mode": {
    "name": "ipython",
    "version": 3
   },
   "file_extension": ".py",
   "mimetype": "text/x-python",
   "name": "python",
   "nbconvert_exporter": "python",
   "pygments_lexer": "ipython3",
   "version": "3.6.10"
  }
 },
 "nbformat": 4,
 "nbformat_minor": 4
}
