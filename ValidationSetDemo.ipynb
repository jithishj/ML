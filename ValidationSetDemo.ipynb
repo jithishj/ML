{
 "cells": [
  {
   "cell_type": "code",
   "execution_count": 8,
   "metadata": {},
   "outputs": [],
   "source": [
    "from sklearn.datasets import make_blobs\n",
    "from sklearn.model_selection import train_test_split\n",
    "from sklearn.linear_model import LogisticRegression"
   ]
  },
  {
   "cell_type": "code",
   "execution_count": 29,
   "metadata": {},
   "outputs": [],
   "source": [
    "X, y=make_blobs(n_samples=1000, n_features=6, centers=4)"
   ]
  },
  {
   "cell_type": "code",
   "execution_count": 30,
   "metadata": {},
   "outputs": [],
   "source": [
    "X_train, X_test, y_train, y_test=train_test_split(X, y, train_size=.8)"
   ]
  },
  {
   "cell_type": "code",
   "execution_count": 31,
   "metadata": {},
   "outputs": [],
   "source": [
    "X_train, X_val, y_train, y_val=train_test_split(X_train, y_train, train_size=.8)"
   ]
  },
  {
   "cell_type": "code",
   "execution_count": null,
   "metadata": {},
   "outputs": [],
   "source": []
  },
  {
   "cell_type": "code",
   "execution_count": 32,
   "metadata": {},
   "outputs": [],
   "source": [
    "lr=LogisticRegression(C=1.5)"
   ]
  },
  {
   "cell_type": "code",
   "execution_count": 33,
   "metadata": {},
   "outputs": [
    {
     "name": "stderr",
     "output_type": "stream",
     "text": [
      "C:\\Users\\jithi\\Anaconda2\\envs\\py36\\lib\\site-packages\\sklearn\\linear_model\\logistic.py:432: FutureWarning: Default solver will be changed to 'lbfgs' in 0.22. Specify a solver to silence this warning.\n",
      "  FutureWarning)\n",
      "C:\\Users\\jithi\\Anaconda2\\envs\\py36\\lib\\site-packages\\sklearn\\linear_model\\logistic.py:469: FutureWarning: Default multi_class will be changed to 'auto' in 0.22. Specify the multi_class option to silence this warning.\n",
      "  \"this warning.\", FutureWarning)\n"
     ]
    }
   ],
   "source": [
    "classifier=lr.fit(X_train, y_train)"
   ]
  },
  {
   "cell_type": "code",
   "execution_count": 34,
   "metadata": {},
   "outputs": [
    {
     "data": {
      "text/plain": [
       "1.0"
      ]
     },
     "execution_count": 34,
     "metadata": {},
     "output_type": "execute_result"
    }
   ],
   "source": [
    "lr.score(X_val, y_val)"
   ]
  },
  {
   "cell_type": "code",
   "execution_count": 36,
   "metadata": {},
   "outputs": [
    {
     "name": "stderr",
     "output_type": "stream",
     "text": [
      "C:\\Users\\jithi\\Anaconda2\\envs\\py36\\lib\\site-packages\\sklearn\\linear_model\\logistic.py:432: FutureWarning: Default solver will be changed to 'lbfgs' in 0.22. Specify a solver to silence this warning.\n",
      "  FutureWarning)\n",
      "C:\\Users\\jithi\\Anaconda2\\envs\\py36\\lib\\site-packages\\sklearn\\linear_model\\logistic.py:469: FutureWarning: Default multi_class will be changed to 'auto' in 0.22. Specify the multi_class option to silence this warning.\n",
      "  \"this warning.\", FutureWarning)\n"
     ]
    }
   ],
   "source": [
    "classifier=lr.fit(X_test, y_test)"
   ]
  },
  {
   "cell_type": "code",
   "execution_count": 37,
   "metadata": {},
   "outputs": [
    {
     "data": {
      "text/plain": [
       "array([2, 2, 0, 3, 3, 1, 2, 0, 1, 0, 1, 1, 2, 2, 2, 0, 1, 2, 3, 3, 3, 1,\n",
       "       1, 0, 2, 3, 0, 2, 1, 3, 0, 2, 3, 0, 2, 0, 3, 3, 0, 1, 2, 1, 2, 2,\n",
       "       2, 1, 1, 3, 0, 1, 3, 3, 0, 3, 3, 0, 2, 0, 0, 0, 0, 1, 3, 3, 3, 3,\n",
       "       3, 3, 3, 3, 1, 3, 1, 3, 0, 0, 1, 3, 2, 0, 1, 3, 1, 0, 2, 2, 2, 2,\n",
       "       1, 0, 2, 2, 0, 3, 2, 1, 3, 3, 3, 2, 2, 3, 2, 0, 0, 1, 3, 0, 2, 0,\n",
       "       1, 2, 2, 2, 2, 3, 1, 3, 2, 0, 1, 1, 3, 1, 1, 2, 2, 0, 1, 0, 2, 0,\n",
       "       0, 0, 3, 0, 3, 0, 1, 3, 1, 1, 3, 3, 0, 3, 0, 2, 1, 3, 3, 3, 1, 0,\n",
       "       2, 0, 3, 2, 3, 2, 3, 2, 1, 0, 0, 3, 1, 0, 1, 0, 2, 1, 3, 1, 0, 2,\n",
       "       2, 2, 0, 0, 0, 2, 3, 1, 3, 0, 2, 1, 2, 1, 3, 3, 2, 0, 1, 3, 0, 1,\n",
       "       3, 2])"
      ]
     },
     "execution_count": 37,
     "metadata": {},
     "output_type": "execute_result"
    }
   ],
   "source": [
    "classifier.predict(X_test)"
   ]
  },
  {
   "cell_type": "code",
   "execution_count": null,
   "metadata": {},
   "outputs": [],
   "source": []
  }
 ],
 "metadata": {
  "kernelspec": {
   "display_name": "Python 3",
   "language": "python",
   "name": "python3"
  },
  "language_info": {
   "codemirror_mode": {
    "name": "ipython",
    "version": 3
   },
   "file_extension": ".py",
   "mimetype": "text/x-python",
   "name": "python",
   "nbconvert_exporter": "python",
   "pygments_lexer": "ipython3",
   "version": "3.6.10"
  }
 },
 "nbformat": 4,
 "nbformat_minor": 4
}
